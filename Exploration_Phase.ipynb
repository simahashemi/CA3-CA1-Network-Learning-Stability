{
 "cells": [
  {
   "cell_type": "markdown",
   "id": "aa7b188d",
   "metadata": {},
   "source": [
    "# Add Libraries"
   ]
  },
  {
   "cell_type": "code",
   "execution_count": null,
   "id": "df841e18",
   "metadata": {},
   "outputs": [],
   "source": [
    "import os\n",
    "import time\n",
    "import pandas as pd\n",
    "\n",
    "from core import core_global as core\n",
    "from core.spike_monitor import SpikeMonitor\n",
    "from core.voltage_monitor import VoltageMonitor\n",
    "from core.weight_matrix_monitor import WeightMatrixMonitor\n",
    "from layers.rewiring_connection import RewiringConnection\n",
    "from models.poisson_pattern_group import PoissonPatternGroup\n",
    "from utils import utils as utils\n",
    "from models.mc_lif_group import McLifGroup"
   ]
  },
  {
   "cell_type": "markdown",
   "id": "0624deb0",
   "metadata": {},
   "source": [
    "# Run Exploration Phase"
   ]
  },
  {
   "cell_type": "code",
   "execution_count": null,
   "id": "b9c7835e",
   "metadata": {
    "scrolled": true
   },
   "outputs": [],
   "source": [
    "def main(args):\n",
    "    trial = args[0]\n",
    "    config = args[1]\n",
    "    input_params = config[\"input_parameters\"]\n",
    "    connection_params = config[\"connection_parameters\"]\n",
    "    neuron_params = config[\"neuron_parameters\"]\n",
    "    \n",
    "    \n",
    "    \n",
    "    print(\"##############Parameters#############\")\n",
    "    print(\"Network_size: (CA3, CA1) = (\", input_params['num_inputs'],\",\",config[\"num_neurons\"],\")\")\n",
    "    print(\"Simulation_time:\",config['simulation_time'],\" s\")\n",
    "    print(\"####################################\")\n",
    "    \n",
    "\n",
    "    exp_result_name_folder = \"Exploration_Phase\"\n",
    "\n",
    "    \n",
    "    \n",
    "    ##############################################################\n",
    "\n",
    "    # Directory for simulation results and log files.\n",
    "    output_directory = os.path.join(\"results\", \"rewiring_ex1\",exp_result_name_folder, time.strftime(\"%y%m%d_%H%M%S\"), str(trial),\n",
    "                                    \"data\")\n",
    "\n",
    "    # Initialize the simulation environment.\n",
    "    core.init(directory=output_directory)\n",
    "\n",
    "    # Write config file to the output directory.\n",
    "    utils.write_configuration(os.path.join(output_directory, \"..\", \"initialization.yaml\"), config)\n",
    "\n",
    "    # Set the random seed.\n",
    "    core.kernel.set_master_seed(config[\"master_seed\"])\n",
    "\n",
    "    # Create input neurons.\n",
    "    inp = PoissonPatternGroup(input_params[\"num_inputs\"], input_params[\"rate\"], input_params[\"rate_bg\"],\n",
    "                              params=input_params)\n",
    "\n",
    "    # Create the network.\n",
    "    neuron = McLifGroup(config['num_neurons'], neuron_params[\"num_branches\"], neuron_params)\n",
    "\n",
    "    # Creat the Connections.\n",
    "    conn = RewiringConnection(inp, neuron, neuron.branch.syn_current, connection_params)\n",
    "\n",
    "    # Create some monitors which will record the simulation data.\n",
    "    for cell_num in range(config['num_neurons']):\n",
    "        WeightMatrixMonitor(conn, core.kernel.fn(f\"cell_recording/cell_num_{cell_num}/weights\", \"dat\"),cell_id = cell_num ,\n",
    "                    interval=config[\"sampling_interval_weights\"])\n",
    "\n",
    "        \n",
    "    \n",
    "    SpikeMonitor(neuron, core.kernel.fn(\"output\", \"ras\"))\n",
    "    sm_inp = SpikeMonitor(inp, core.kernel.fn(\"input\", \"ras\"))\n",
    "    vm_nrn = [VoltageMonitor(neuron.soma, cell_ind, core.kernel.fn(f\"cell_recording/cell_num_{cell_ind}/soma\", \"mem\"),paste_spikes=True, paste_spikes_from=neuron) for cell_ind in range(config['num_neurons'])]\n",
    "    vm_br = [[] for cell_ind in range(config['num_neurons'])]\n",
    "    for cell_ind in range(config['num_neurons']):\n",
    "        for dend_ind in range(neuron_params[\"num_branches\"]):\n",
    "            vm_br[cell_ind].append(VoltageMonitor(neuron.branch, (dend_ind, cell_ind), core.kernel.fn(f\"cell_recording/cell_num_{cell_ind}/branch\", \"mem\", dend_ind)))\n",
    "\n",
    "    # Now simulate the model.\n",
    "    simulation_time = config[\"simulation_time\"]\n",
    "    core.kernel.run_chunk(20.0, 0, simulation_time)\n",
    "\n",
    "    sm_inp.active = True\n",
    "    for cell_ind in range(config['num_neurons']):\n",
    "        vm_nrn[cell_ind].active = False\n",
    "        for vm in vm_br[cell_ind]:\n",
    "            vm.active = False\n",
    "            \n",
    "    core.kernel.run_chunk(simulation_time - 120, 0, simulation_time)\n",
    "\n",
    "    sm_inp.active = True\n",
    "    for cell_ind in range(config['num_neurons']):\n",
    "        vm_nrn[cell_ind].active = True\n",
    "        for vm in vm_br[cell_ind]:\n",
    "            vm.active = True\n",
    "\n",
    "    core.kernel.run_chunk(100.0, 0, simulation_time)\n"
   ]
  },
  {
   "cell_type": "code",
   "execution_count": null,
   "id": "331c0196",
   "metadata": {
    "scrolled": true
   },
   "outputs": [],
   "source": [
    "if __name__ == '__main__':\n",
    "    import copy\n",
    "    from scoop import futures\n",
    "\n",
    "    # Load the configuration file.\n",
    "    config = utils.load_configuration(\"initialization.yaml\")\n",
    "\n",
    "    configs = []\n",
    "    num_trials = 1\n",
    "    for trial in range(num_trials):\n",
    "        config[\"master_seed\"] = 10 * (trial + 1)\n",
    "        configs.append(copy.deepcopy(config))\n",
    "\n",
    "\n",
    "    r = list(futures.map(main, [[trial, config] for trial, config in enumerate(configs)]))"
   ]
  }
 ],
 "metadata": {
  "kernelspec": {
   "display_name": "Python [conda env:base] *",
   "language": "python",
   "name": "conda-base-py"
  },
  "language_info": {
   "codemirror_mode": {
    "name": "ipython",
    "version": 3
   },
   "file_extension": ".py",
   "mimetype": "text/x-python",
   "name": "python",
   "nbconvert_exporter": "python",
   "pygments_lexer": "ipython3",
   "version": "3.10.9"
  }
 },
 "nbformat": 4,
 "nbformat_minor": 5
}
